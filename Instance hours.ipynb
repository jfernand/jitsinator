{
 "cells": [
  {
   "cell_type": "code",
   "metadata": {
    "collapsed": true,
    "ExecuteTime": {
     "end_time": "2025-10-24T18:12:55.752074464Z",
     "start_time": "2025-10-24T18:12:55.560935058Z"
    }
   },
   "source": [
    "val tutoringSessions = 2_191\n",
    "val classSessions = 3_450 // hrs. 3450 for current FY\n",
    "val misc = 150 // hrs\n",
    "val summerPrograms = 55 // uncertain, assume hrs.\n",
    "val dbHours = 14 * 365\n",
    "val whiteboardHours = 14 * 365\n",
    "val prosodyHours = 14 * 365\n",
    "val jicofoHours = 14 * 365\n",
    "val jvbHours = 14 * 365 * 2\n",
    "\n",
    "// The consensus appears to be that a head node (web + prosody + jicofo) and a couple jvbs can handle up to 500 participants.\n",
    "\n",
    "val containersPerRecordingSession = 1\n",
    "val containersPerSession = 3 // prosody, jicofo, jvb\n",
    "val gbPerCpu = 8\n",
    "\n",
    "val teachingHours = tutoringSessions + classSessions + summerPrograms + misc\n",
    "val teachingContainerHours = teachingHours * containersPerSession\n",
    "val recordingContainerHour = (classSessions + misc + summerPrograms) * containersPerRecordingSession\n",
    "\n",
    "val containerHours = prosodyHours + jicofoHours + jvbHours + recordingContainerHour + dbHours + whiteboardHours\n",
    "\n",
    "val cpuCostPerHour = 0.04048\n",
    "val gbCostPerHour = 0.004445\n",
    "\n",
    "val totalCpuCost = containerHours * cpuCostPerHour\n",
    "val totalGbCost = containerHours * gbCostPerHour * gbPerCpu\n",
    "val totalCost = totalCpuCost + totalGbCost\n",
    "\n",
    "val discountedMonthlyCpuCost = max(containerHours / 12.0 - 3_000.0, 0.0) * cpuCostPerHour\n",
    "val discountedMonthlyGbCost = max(containerHours * gbPerCpu / 12.0 - 18_000, 0.0) * gbCostPerHour\n",
    "val discountedMonthlyCost = discountedMonthlyCpuCost + discountedMonthlyGbCost\n",
    "val hoursPerYear = 365.0 * 24\n",
    "\n",
    "println(\"%-35s  %,12d\".format(\"Annual Teaching Hrs:\", teachingHours))\n",
    "println(\"%-35s  %,12d\".format(\"Annual Container Session Hrs:\", teachingContainerHours))\n",
    "println(\"%-35s  %,12d\".format(\"Annual Container Recording Hrs:\", recordingContainerHour))\n",
    "println(\"%-35s  %,12d\".format(\"Total Annual Container Hrs:\", containerHours))\n",
    "println(\"%-35s  %,12d\".format(\"Total Annual Gb Hrs:\", containerHours * gbPerCpu))\n",
    "println(\n",
    "    \"%-35s  %,12.0f\".format(\n",
    "        \"Total Annual CPU Cost:\",\n",
    "        containerHours * cpuCostPerHour\n",
    "    )\n",
    ")\n",
    "println(\n",
    "    \"%-35s  %,12.0f\".format(\n",
    "        \"Total Annual Gb Cost:\",\n",
    "        containerHours * gbCostPerHour * gbPerCpu\n",
    "    )\n",
    ")\n",
    "println(\"%-35s $%,12.0f\".format(\"Total Annual Cost:\", totalCost))\n",
    "\n",
    "println()\n",
    "println(\"%-35s  %,12.0f\".format(\"Hours per Month:\", containerHours / 12.0))\n",
    "println(\"%-35s  %,12d\".format(\"Monthly Container Hrs:\", containerHours / 12))\n",
    "println(\"%-35s  %,12d\".format(\"Monthly Gb Hrs:\", containerHours * gbPerCpu / 12))\n",
    "println(\"%-35s $%,12.0f\".format(\"Total Monthly:\", totalCost / 12))\n",
    "println(\"%-35s $%,12.0f\".format(\"Discounted per Month:\", discountedMonthlyCost))\n",
    "println()\n",
    "println(\"Container hours per hour:     %.2f\".format(containerHours / hoursPerYear))"
   ],
   "outputs": [
    {
     "name": "stdout",
     "output_type": "stream",
     "text": [
      "Annual Teaching Hrs:                        5,846\n",
      "Annual Container Session Hrs:              17,538\n",
      "Annual Container Recording Hrs:             3,655\n",
      "Total Annual Container Hrs:                34,315\n",
      "Total Annual Gb Hrs:                      274,520\n",
      "Total Annual CPU Cost:                      1,389\n",
      "Total Annual Gb Cost:                       1,220\n",
      "Total Annual Cost:                  $       2,609\n",
      "\n",
      "Hours per Month:                            2,860\n",
      "Monthly Container Hrs:                      2,859\n",
      "Monthly Gb Hrs:                            22,876\n",
      "Total Monthly:                      $         217\n",
      "Discounted per Month:               $          22\n",
      "\n",
      "Container hours per hour:     3.92\n"
     ]
    }
   ],
   "execution_count": 41
  },
  {
   "metadata": {},
   "cell_type": "code",
   "outputs": [],
   "execution_count": null,
   "source": ""
  }
 ],
 "metadata": {
  "kernelspec": {
   "display_name": "Kotlin",
   "language": "kotlin",
   "name": "kotlin"
  },
  "language_info": {
   "name": "kotlin",
   "version": "2.2.20-Beta2",
   "mimetype": "text/x-kotlin",
   "file_extension": ".kt",
   "pygments_lexer": "kotlin",
   "codemirror_mode": "text/x-kotlin",
   "nbconvert_exporter": ""
  }
 },
 "nbformat": 4,
 "nbformat_minor": 0
}
